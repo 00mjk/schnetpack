{
 "cells": [
  {
   "cell_type": "markdown",
   "source": [
    "# Tutorial of New Architecture\n"
   ],
   "metadata": {
    "collapsed": false,
    "pycharm": {
     "name": "#%% md\n"
    }
   }
  },
  {
   "cell_type": "markdown",
   "source": [
    "\n",
    "## Imports and Settings"
   ],
   "metadata": {
    "collapsed": false,
    "pycharm": {
     "name": "#%% md\n",
     "is_executing": false
    }
   }
  },
  {
   "cell_type": "code",
   "execution_count": 55,
   "outputs": [],
   "source": [
    "import torch\n",
    "import torch.nn as nn\n",
    "import torch.nn.functional as F\n",
    "from torch.optim import Adam\n",
    "from shutil import rmtree\n",
    "import os\n",
    "\n",
    "import schnetpack as spk"
   ],
   "metadata": {
    "collapsed": false,
    "pycharm": {
     "name": "#%%\n"
    }
   }
  },
  {
   "cell_type": "code",
   "execution_count": 56,
   "outputs": [],
   "source": [
    "# paths\n",
    "model_dir = \"modeldir\"\n",
    "db_path = \"data/schnetpack/qm9.db\"\n",
    "\n",
    "# architecture settings\n",
    "n_atom_basis = 128\n",
    "n_filters = 128\n",
    "n_interactions = 6\n",
    "n_gaussians = 25\n",
    "cutoff = 10.\n",
    "\n",
    "# training settings\n",
    "batch_size = 100\n",
    "n_train = 500\n",
    "n_val = 200\n",
    "n_workers = 4\n",
    "lr = 1e-3\n",
    "prop = spk.datasets.QM9.U0\n"
   ],
   "metadata": {
    "collapsed": false,
    "pycharm": {
     "name": "#%%\n"
    }
   }
  },
  {
   "cell_type": "markdown",
   "source": [
    "## Prepare Data\n"
   ],
   "metadata": {
    "collapsed": false
   }
  },
  {
   "cell_type": "code",
   "execution_count": 57,
   "outputs": [],
   "source": [
    "# load qm9 dataset and download if necessary\n",
    "data = spk.datasets.QM9(db_path)\n",
    "\n",
    "# split in train and val\n",
    "train, val, test = spk.data.train_test_split(data, n_train, n_val)\n",
    "train_loader = spk.data.AtomsLoader(train, batch_size=100, num_workers=n_workers)\n",
    "val_loader = spk.data.AtomsLoader(val)\n"
   ],
   "metadata": {
    "collapsed": false,
    "pycharm": {
     "name": "#%%\n"
    }
   }
  },
  {
   "cell_type": "markdown",
   "source": [
    "## Build Architectures\n"
   ],
   "metadata": {
    "collapsed": false,
    "pycharm": {
     "name": "#%% md\n"
    }
   }
  },
  {
   "cell_type": "markdown",
   "source": [
    "### Classic SchNet\n",
    "\n",
    "This section will build the classic SchNet model, as it has been used until now. From\n",
    " a user`s point of view, nothing has changed.\n"
   ],
   "metadata": {
    "collapsed": false,
    "pycharm": {
     "name": "#%% md\n"
    }
   }
  },
  {
   "cell_type": "code",
   "execution_count": 58,
   "outputs": [],
   "source": [
    "# representation\n",
    "schnet = spk.SchNet(\n",
    "    n_atom_basis=n_atom_basis,\n",
    "    n_interactions=n_interactions,\n",
    "    n_gaussians=n_gaussians,\n",
    ")\n",
    "\n",
    "# output modules\n",
    "atomwise_output = spk.atomistic.Atomwise(n_in=n_atom_basis, property=prop)\n",
    "\n",
    "# final model\n",
    "classic_schnet = spk.atomistic.AtomisticModel(\n",
    "    representation=schnet, output_modules=[atomwise_output]\n",
    ")\n"
   ],
   "metadata": {
    "collapsed": false,
    "pycharm": {
     "name": "#%%\n"
    }
   }
  },
  {
   "cell_type": "markdown",
   "source": [
    "### PhysNet\n",
    "\n",
    "This section builds a PhysNet model, analogue to the classic SchNet style models. The\n",
    " usage is generally the same, but PhysNet requires some different arguments.\n"
   ],
   "metadata": {
    "collapsed": false,
    "pycharm": {
     "name": "#%% md\n"
    }
   }
  },
  {
   "cell_type": "code",
   "execution_count": 59,
   "outputs": [],
   "source": [
    "# representation\n",
    "physnet = spk.PhysNet(\n",
    "    n_atom_basis=n_atom_basis,\n",
    "    n_interactions=n_interactions,\n",
    "    n_gaussians=n_gaussians,\n",
    ")\n",
    "\n",
    "# outpur modules\n",
    "corrections = [spk.atomistic.ElectrostaticEnergy(cuton=0., cutoff=10.)]\n",
    "corr_atomwise_output = spk.atomistic.AtomwiseCorrected(n_in=n_atom_basis, property=prop)\n",
    "\n",
    "# final model\n",
    "classic_physnet = spk.atomistic.AtomisticModel(\n",
    "    representation=physnet, output_modules=[corr_atomwise_output]\n",
    ")\n"
   ],
   "metadata": {
    "collapsed": false,
    "pycharm": {
     "name": "#%%\n"
    }
   }
  },
  {
   "cell_type": "markdown",
   "source": [
    "### AtomisticRepresentation: SchNet\n",
    "\n",
    "Since SchNet and PhysNet generally use a similar architecture, a new parent class \n",
    "`AtomisticRepresentation` is introduced. `SchNet` and `PhysNet` are inherited from \n",
    "the base representation class. Although the subclasses make the construction of \n",
    "representations very easy, it might be useful to directly use the \n",
    "`AtomisticRepresentation` class. Therefore the single building blocks of a \n",
    "representation need to be constructed first. This requires an embedding, a \n",
    "distance-expansion, the interaction blocks, a post-interaction-layer (if needed) and \n",
    "the aggregation mode, which transforms the intermediate interaction outputs to the \n",
    "representation features. With these blocks, one can either define a SchNet \n",
    "representation, a PhysNet representation or a mixture of both.\n",
    " "
   ],
   "metadata": {
    "collapsed": false,
    "pycharm": {
     "name": "#%% md\n"
    }
   }
  },
  {
   "cell_type": "code",
   "execution_count": 60,
   "outputs": [],
   "source": [
    "# building blocks\n",
    "s_embedding = nn.Embedding(87, n_atom_basis, padding_idx=0)\n",
    "s_distance_expansion = spk.nn.GaussianSmearing(0.0, cutoff, n_gaussians)\n",
    "s_interactions = nn.ModuleList(\n",
    "    [\n",
    "        spk.representation.SchNetInteraction(\n",
    "            n_atom_basis=n_atom_basis,\n",
    "            n_spatial_basis=n_gaussians,\n",
    "            n_filters=n_filters,\n",
    "            cutoff=cutoff,\n",
    "        )\n",
    "        for _ in range(n_interactions)\n",
    "    ]\n",
    ")\n",
    "s_interaction_aggregation = spk.representation.InteractionAggregation(mode=\"last\")\n",
    "\n",
    "# representation\n",
    "ar_schnet = spk.AtomisticRepresentation(\n",
    "    embedding=s_embedding,\n",
    "    distance_expansion=s_distance_expansion,\n",
    "    interactions=s_interactions,\n",
    "    interaction_aggregation=s_interaction_aggregation,\n",
    "    return_intermediate=False,\n",
    "    return_distances=False,\n",
    "    sum_before_interaction_append=True,\n",
    ")\n",
    "\n",
    "# output module\n",
    "ar_atomwise_output = spk.atomistic.Atomwise(n_in=n_atom_basis, property=prop)\n",
    "\n",
    "# final model\n",
    "ar_schnet_model = spk.atomistic.AtomisticModel(\n",
    "    representation=ar_schnet, output_modules=[ar_atomwise_output]\n",
    ")\n"
   ],
   "metadata": {
    "collapsed": false,
    "pycharm": {
     "name": "#%%\n"
    }
   }
  },
  {
   "cell_type": "markdown",
   "source": [
    "### AtomisticRepresentation: PhysNet\n"
   ],
   "metadata": {
    "collapsed": false,
    "pycharm": {
     "name": "#%% md\n"
    }
   }
  },
  {
   "cell_type": "code",
   "execution_count": 61,
   "outputs": [],
   "source": [
    "# building blocks\n",
    "p_embedding = spk.nn.Embedding(n_features=n_atom_basis)\n",
    "p_distance_expansion = spk.nn.GaussianSmearing(0.0, cutoff, n_gaussians)\n",
    "p_interactions = nn.ModuleList(\n",
    "    [\n",
    "        spk.representation.PhysNetInteraction(\n",
    "            n_features=n_atom_basis,\n",
    "            n_gaussians=n_gaussians,\n",
    "            activation=spk.nn.Swish,\n",
    "        )\n",
    "        for _ in range(n_interactions)\n",
    "    ]\n",
    ")\n",
    "p_post_interactions = nn.ModuleList(\n",
    "    [\n",
    "        nn.Sequential(\n",
    "            spk.nn.ResidualStack(\n",
    "                n_features=n_atom_basis,\n",
    "                n_blocks=1,\n",
    "                activation=spk.nn.Swish,\n",
    "            ),\n",
    "            spk.nn.Dense(\n",
    "                in_features=n_atom_basis,\n",
    "                out_features=n_atom_basis,\n",
    "                pre_activation=spk.nn.Swish,\n",
    "            ),\n",
    "        )\n",
    "        for _ in range(n_interactions)\n",
    "    ]\n",
    ")\n",
    "p_interaction_aggregation = spk.representation.InteractionAggregation(mode=\"sum\")\n",
    "\n",
    "# build represnetation\n",
    "ar_physnet = spk.AtomisticRepresentation(\n",
    "    embedding=p_embedding,\n",
    "    distance_expansion=p_distance_expansion,\n",
    "    interactions=p_interactions,\n",
    "    interaction_aggregation=p_interaction_aggregation,\n",
    "    return_intermediate=False,\n",
    "    return_distances=True,\n",
    "    sum_before_interaction_append=False,\n",
    ")\n",
    "\n",
    "# build output module\n",
    "ar_corr_atomwise_output = spk.atomistic.AtomwiseCorrected(\n",
    "    n_in=n_atom_basis, property=prop\n",
    ")\n",
    "\n",
    "# final model\n",
    "ar_physnet_model = spk.atomistic.AtomisticModel(\n",
    "    representation=ar_physnet,\n",
    "    output_modules=[ar_corr_atomwise_output]\n",
    ")\n"
   ],
   "metadata": {
    "collapsed": false,
    "pycharm": {
     "name": "#%%\n"
    }
   }
  },
  {
   "cell_type": "markdown",
   "source": [
    "### AtomisticRepresentation: Mixture Model\n",
    "\n",
    "The mixture model illustrates how the `AtomisticRepresentation` is able to combine \n",
    "all kinds of building blocks with each other. As embedding, a layer with a \n",
    "transformation of the atomtype to a tensor with the feature dimension is required. \n",
    "The distance-expansion can be any layer which transform the interatomic distances to \n",
    "basis functions. The new representation is able to use `SchNetInteraction` and \n",
    "`PhysNetInteraction` blocks. This example shows, that even a mixture of both could \n",
    "theoretically be used. The representation loops through all interaction layers and \n",
    "collects the intermediate results of the single layers. Since some models (e.g. \n",
    "PhysNet) use an additional output layer that is applied to the interaction tensor, \n",
    "without contributing to the residual sum (x + v), the `post_interactions` layer \n",
    "is applied to the interaction-output v after the residual sum and before appending to\n",
    " the intermediate interactions list:\n",
    "    \n",
    "    x = x + v\n",
    "    intermediate_interactions.append(post_interaction(v))\n",
    "        \n",
    "If post-interaction layers are not needed, `post_interactions=None` ignores them. The \n",
    "evalustion of the interaction blocks yields a list with `n_interactions` \n",
    "interaction-tensors. Depending on the model these interactions are aggregated to a \n",
    "atomistic feature representation with the use of the `interaction_aggregation`. While\n",
    " SchNet only uses the last interaction tensor as a feature representation, PhysNet \n",
    " uses a sum-aggregation over the intermediate interactions. Independent of the \n",
    " selected aggregation-type, the `AtomisticRepresentation` returns a feature \n",
    " representation with the dimensions `[n_batch, n_atoms, n_atom_basis]`. This allows \n",
    " the use of all output-modules, that are derived from the `Atomwise` class. Although \n",
    " there is no direct need for the output-modules to recieve the intermediate \n",
    " interactions anymore, since they are allready aggregated in the selected manner, it \n",
    " is still possible to return the intermediate interactions. Furthermore the distance \n",
    " calculations can be returned, because they may be required for some output-modules (e\n",
    " .g. the new `AtomwiseCorrected` output module).\n"
   ],
   "metadata": {
    "collapsed": false,
    "pycharm": {
     "name": "#%% md\n"
    }
   }
  },
  {
   "cell_type": "code",
   "execution_count": 62,
   "outputs": [],
   "source": [
    "# building blocks\n",
    "m_embedding = spk.nn.Embedding(n_features=n_atom_basis)\n",
    "m_distance_expansion = spk.nn.GaussianSmearing(0.0, cutoff, n_gaussians)\n",
    "m_interactions = nn.ModuleList(\n",
    "    [\n",
    "        spk.representation.PhysNetInteraction(            \n",
    "            n_features=n_atom_basis,\n",
    "            n_gaussians=n_gaussians,\n",
    "            activation=spk.nn.Swish,\n",
    "            #cutoff=cutoff,\n",
    "        ),\n",
    "        spk.representation.SchNetInteraction(\n",
    "            n_atom_basis=n_atom_basis,\n",
    "            n_spatial_basis=n_gaussians,\n",
    "            n_filters=n_filters,\n",
    "            cutoff=cutoff,\n",
    "        )\n",
    "    ]\n",
    ")\n",
    "m_post_interactions = nn.ModuleList(\n",
    "    [\n",
    "        spk.nn.Dense(in_features=n_atom_basis, out_features=n_atom_basis) for _ in \n",
    "        range(len(m_interactions))\n",
    "    ]\n",
    ")\n",
    "m_interaction_aggregation = spk.representation.InteractionAggregation(mode=\"sum\")\n",
    "\n",
    "# build representation\n",
    "m_atomistic_representation = spk.AtomisticRepresentation(\n",
    "    embedding=m_embedding,\n",
    "    distance_expansion=m_distance_expansion,\n",
    "    interactions=m_interactions,\n",
    "    post_interactions=m_post_interactions,\n",
    "    interaction_aggregation=m_interaction_aggregation,\n",
    "    return_intermediate=False,\n",
    "    return_distances=True,\n",
    "    sum_before_interaction_append=False,\n",
    ")\n",
    "\n",
    "# output modules\n",
    "m_atomwise = spk.atomistic.Atomwise(n_in=n_atom_basis, property=prop)\n",
    "m_corrections = [spk.atomistic.ElectrostaticEnergy(cuton=0., cutoff=10.)]\n",
    "m_corr_atomwise = spk.atomistic.AtomwiseCorrected(\n",
    "    n_in=n_atom_basis, corrections=corrections, property=prop\n",
    ")\n",
    "\n",
    "# final model\n",
    "m_atomistic_model = spk.AtomisticModel(\n",
    "    representation=m_atomistic_representation, \n",
    "    output_modules=[m_atomwise, m_corr_atomwise])\n",
    "\n"
   ],
   "metadata": {
    "collapsed": false,
    "pycharm": {
     "name": "#%%\n"
    }
   }
  },
  {
   "cell_type": "markdown",
   "source": [
    "## Training\n"
   ],
   "metadata": {
    "collapsed": false,
    "pycharm": {
     "name": "#%% md\n"
    }
   }
  },
  {
   "cell_type": "code",
   "execution_count": 63,
   "outputs": [],
   "source": [
    "def train(model):\n",
    "    # create trainer\n",
    "    print(\"setting up trainer...\")\n",
    "    modeldir = \"modeldir\"\n",
    "    if os.path.exists(modeldir):\n",
    "        rmtree(modeldir)\n",
    "    opt = Adam(model.parameters(), lr=lr)\n",
    "    loss = lambda b, p: F.mse_loss(p[prop], b[prop])\n",
    "    trainer = spk.train.Trainer(modeldir, model, loss, opt, train_loader, val_loader)\n",
    "\n",
    "    # start training\n",
    "    print(\"training...\")\n",
    "    trainer.train(torch.device(\"cpu\"), n_epochs=1)\n"
   ],
   "metadata": {
    "collapsed": false,
    "pycharm": {
     "name": "#%%\n"
    }
   }
  },
  {
   "cell_type": "markdown",
   "source": [
    "### Train Classic SchNet\n"
   ],
   "metadata": {
    "collapsed": false,
    "pycharm": {
     "name": "#%% md\n"
    }
   }
  },
  {
   "cell_type": "code",
   "execution_count": 64,
   "outputs": [
    {
     "name": "stdout",
     "output_type": "stream",
     "text": [
      "setting up trainer...\n",
      "training...\n",
      "tensor(1.2431e+08, grad_fn=<MseLossBackward>)\n",
      "tensor(1.2511e+08, grad_fn=<MseLossBackward>)\n",
      "tensor(1.2737e+08, grad_fn=<MseLossBackward>)\n",
      "tensor(1.2721e+08, grad_fn=<MseLossBackward>)\n",
      "tensor(1.2621e+08, grad_fn=<MseLossBackward>)\n"
     ]
    }
   ],
   "source": [
    "train(classic_schnet)\n"
   ],
   "metadata": {
    "collapsed": false,
    "pycharm": {
     "name": "#%%\n"
    }
   }
  },
  {
   "cell_type": "markdown",
   "source": [
    "### Train PhysNet\n"
   ],
   "metadata": {
    "collapsed": false,
    "pycharm": {
     "name": "#%% md\n"
    }
   }
  },
  {
   "cell_type": "code",
   "execution_count": 65,
   "outputs": [
    {
     "name": "stdout",
     "output_type": "stream",
     "text": [
      "setting up trainer...\n",
      "training...\n",
      "tensor(1.2450e+08, grad_fn=<MseLossBackward>)\n",
      "tensor(1.2533e+08, grad_fn=<MseLossBackward>)\n",
      "tensor(1.2758e+08, grad_fn=<MseLossBackward>)\n",
      "tensor(1.2744e+08, grad_fn=<MseLossBackward>)\n",
      "tensor(1.2645e+08, grad_fn=<MseLossBackward>)\n"
     ]
    }
   ],
   "source": [
    "train(classic_physnet)\n"
   ],
   "metadata": {
    "collapsed": false,
    "pycharm": {
     "name": "#%%\n"
    }
   }
  },
  {
   "cell_type": "markdown",
   "source": [
    "### Train AtomisticRepresentation SchNet\n"
   ],
   "metadata": {
    "collapsed": false,
    "pycharm": {
     "name": "#%% md\n"
    }
   }
  },
  {
   "cell_type": "code",
   "execution_count": 66,
   "outputs": [
    {
     "name": "stdout",
     "output_type": "stream",
     "text": [
      "setting up trainer...\n",
      "training...\n",
      "tensor(1.2449e+08, grad_fn=<MseLossBackward>)\n",
      "tensor(1.2521e+08, grad_fn=<MseLossBackward>)\n",
      "tensor(1.2736e+08, grad_fn=<MseLossBackward>)\n",
      "tensor(1.2711e+08, grad_fn=<MseLossBackward>)\n",
      "tensor(1.2600e+08, grad_fn=<MseLossBackward>)\n"
     ]
    }
   ],
   "source": [
    "train(ar_schnet_model)\n"
   ],
   "metadata": {
    "collapsed": false,
    "pycharm": {
     "name": "#%%\n"
    }
   }
  },
  {
   "cell_type": "markdown",
   "source": [
    "### Train AtomisticRepresentation PhysNet\n"
   ],
   "metadata": {
    "collapsed": false,
    "pycharm": {
     "name": "#%% md\n"
    }
   }
  },
  {
   "cell_type": "code",
   "execution_count": 67,
   "outputs": [
    {
     "name": "stdout",
     "output_type": "stream",
     "text": [
      "setting up trainer...\n",
      "training...\n",
      "tensor(1.2450e+08, grad_fn=<MseLossBackward>)\n",
      "tensor(1.2520e+08, grad_fn=<MseLossBackward>)\n",
      "tensor(1.2733e+08, grad_fn=<MseLossBackward>)\n",
      "tensor(1.2708e+08, grad_fn=<MseLossBackward>)\n",
      "tensor(1.2597e+08, grad_fn=<MseLossBackward>)\n"
     ]
    }
   ],
   "source": [
    "train(ar_physnet_model)\n"
   ],
   "metadata": {
    "collapsed": false,
    "pycharm": {
     "name": "#%%\n"
    }
   }
  },
  {
   "cell_type": "markdown",
   "source": [
    "### Train AtomisticRepresentation Mixed Model\n"
   ],
   "metadata": {
    "collapsed": false,
    "pycharm": {
     "name": "#%% md\n"
    }
   }
  },
  {
   "cell_type": "code",
   "execution_count": 68,
   "outputs": [
    {
     "name": "stdout",
     "output_type": "stream",
     "text": [
      "setting up trainer...\n",
      "training...\n",
      "tensor(1.2450e+08, grad_fn=<MseLossBackward>)\n",
      "tensor(1.2538e+08, grad_fn=<MseLossBackward>)\n",
      "tensor(1.2770e+08, grad_fn=<MseLossBackward>)\n",
      "tensor(1.2761e+08, grad_fn=<MseLossBackward>)\n",
      "tensor(1.2669e+08, grad_fn=<MseLossBackward>)\n"
     ]
    }
   ],
   "source": [
    "train(m_atomistic_model)\n",
    "\n"
   ],
   "metadata": {
    "collapsed": false,
    "pycharm": {
     "name": "#%%\n"
    }
   }
  }
 ],
 "metadata": {
  "language_info": {
   "codemirror_mode": {
    "name": "ipython",
    "version": 2
   },
   "file_extension": ".py",
   "mimetype": "text/x-python",
   "name": "python",
   "nbconvert_exporter": "python",
   "pygments_lexer": "ipython2",
   "version": "2.7.6"
  },
  "kernelspec": {
   "name": "python3",
   "language": "python",
   "display_name": "Python 3"
  }
 },
 "nbformat": 4,
 "nbformat_minor": 0
}