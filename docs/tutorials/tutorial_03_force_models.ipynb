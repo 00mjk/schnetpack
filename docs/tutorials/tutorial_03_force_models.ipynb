{
 "cells": [
  {
   "cell_type": "markdown",
   "metadata": {},
   "source": [
    "# Training a model on forces and energies\n",
    "\n",
    "In addition to the energy, machine learning models can also be used to model response properties such as forces.\n",
    "These are $N_\\mathrm{atoms} \\times 3$ arrays describing the Cartesian force acting on each atom due to the overall (potential) energy.\n",
    "They are formally defined as the negative gradient of the energy $E_\\mathrm{pot}$ with respect to the nuclear positions $\\mathbf{R}$\n",
    "\\begin{equation}\n",
    "\\mathbf{F}^{(\\alpha)} = -\\frac{\\partial E_\\mathrm{pot}}{\\partial \\mathbf{R}^{(\\alpha)}},\n",
    "\\end{equation}\n",
    "where $\\alpha$ is the index of the nucleus.\n",
    "\n",
    "The above expression offers a straightforward way to include forces in machine learning models by simply defining a model for the energy and taking the appropriate derivatives. \n",
    "The resulting model can directly be trained on energies and forces.\n",
    "Moreover, in this manner energy conservation and the correct behaviour under rotations of the molecule is guaranteed.\n",
    "\n",
    "Using forces in addition to energies to construct a machine learning model offers several advantages.\n",
    "Accurate force predictions are important for molecular dynamics simulations, which will be covered in the subsequent tutorial.\n",
    "Forces also encode a greater wealth of information than the energies. \n",
    "For every molecule, only one energy is present, while there are $3N_\\mathrm{atoms}$ force entries.\n",
    "This property, combined with the fact that reference forces can be computed at the same cost as energies, makes models trained on forces and energies very data efficient.\n",
    "\n",
    "In the following, we will show how to train such force models and how to use them in practical applications."
   ]
  },
  {
   "cell_type": "markdown",
   "metadata": {},
   "source": [
    "## Preparing the data\n",
    "\n",
    "The process of preparing the data is smilar to the tutorial on [QM9](tutorial_02_qm9.ipynb). We begin by importing all relevant packages and generating a directory for the tutorial experiments."
   ]
  },
  {
   "cell_type": "code",
   "execution_count": 12,
   "metadata": {},
   "outputs": [],
   "source": [
    "import os\n",
    "import torch\n",
    "import torchmetrics\n",
    "import schnetpack as spk\n",
    "import schnetpack.transform as trn\n",
    "import pytorch_lightning as pl\n",
    "import schnetpack.properties as prp\n",
    "\n",
    "forcetut = './forcetut'\n",
    "if not os.path.exists(forcetut):\n",
    "    os.makedirs(forcetut)"
   ]
  },
  {
   "cell_type": "markdown",
   "metadata": {},
   "source": [
    "Next, the data needs to be loaded from a suitable dataset. \n",
    "For convenience, we use the MD17 dataset class provided in SchNetPack, which automtically downloads and builds suitable databases containing energies and forces for a range of small organic molecules. \n",
    "In this case, we use the ethanol molecule as an example."
   ]
  },
  {
   "cell_type": "code",
   "execution_count": 2,
   "metadata": {},
   "outputs": [
    {
     "name": "stdout",
     "output_type": "stream",
     "text": [
      "rm: cannot remove 'split.npz': No such file or directory\r\n"
     ]
    },
    {
     "name": "stderr",
     "output_type": "stream",
     "text": [
      "100%|██████████| 10/10 [00:15<00:00,  1.57s/it]\n"
     ]
    }
   ],
   "source": [
    "from schnetpack.datasets import MD17\n",
    "\n",
    "%rm split.npz\n",
    "\n",
    "ethanol_data = MD17(\n",
    "    os.path.join(forcetut,'ethanol.db'),\n",
    "    molecule='ethanol',\n",
    "    batch_size=100,\n",
    "    num_train=1000,\n",
    "    num_val=1000,\n",
    "    transforms=[\n",
    "        trn.TorchNeighborList(cutoff=5.),\n",
    "        trn.RemoveOffsets(MD17.energy, remove_mean=True, remove_atomrefs=False),\n",
    "        trn.CastTo32()\n",
    "    ],\n",
    "    property_units={MD17.energy: 'kcal/mol'},\n",
    "    num_workers=1,\n",
    "    split_file=os.path.join(forcetut, \"split.npz\")\n",
    ")\n",
    "ethanol_data.prepare_data()\n",
    "ethanol_data.setup()"
   ]
  },
  {
   "cell_type": "markdown",
   "metadata": {},
   "source": [
    "As in the last tutorial, the downloading and data splitting is directly carried out by the data modules.\n",
    "Once again, we want to use the mean and standardeviation of the energies in the training data to precondition our model.\n",
    "This only needs to be done for the energies, since the forces are obtained as derivatives and automatically capture the scale of the data.\n",
    "Unlike in the case of QM9, the subtraction of atomic reference energies is not necessary, since only configurations of the same molecule are loaded.\n",
    "\n",
    "For custom datasets, the data would have to be loaded via the SchNetPack `AseAtomsData` class.\n",
    "In this case, one needs to make sure, that the naming of properties is kept consistent. The `schnetpack.properties`\n",
    "module provides standard names for a wide range of properties.\n",
    "Here, we use the definitions provided with the `MD17` class.\n",
    "\n",
    "In order to train force models, forces need to be included in the reference data.\n",
    "Once the dataset was loaded, this can e.g. be checked as follows:"
   ]
  },
  {
   "cell_type": "code",
   "execution_count": 3,
   "metadata": {},
   "outputs": [
    {
     "name": "stdout",
     "output_type": "stream",
     "text": [
      "Loaded properties:\n",
      " _idx\n",
      " energy\n",
      " forces\n",
      " _n_atoms\n",
      " _atomic_numbers\n",
      " _positions\n",
      " _cell\n",
      " _pbc\n",
      " _idx_i\n",
      " _idx_j\n",
      " _Rij\n",
      "\n"
     ]
    }
   ],
   "source": [
    "properties = ethanol_data.train_dataset[0]\n",
    "print('Loaded properties:\\n', *['{:s}\\n'.format(i) for i in properties.keys()])"
   ]
  },
  {
   "cell_type": "markdown",
   "metadata": {},
   "source": [
    "As you see, `energy` and `forces` are included in the properties dictionary. To have a look at the `forces` array\n",
    "and check whether it has the expected dimensions, we can call:"
   ]
  },
  {
   "cell_type": "code",
   "execution_count": 4,
   "metadata": {},
   "outputs": [
    {
     "name": "stdout",
     "output_type": "stream",
     "text": [
      "Forces:\n",
      " tensor([[-26.1604, -30.9251, -63.7383],\n",
      "        [ -1.6113,  -9.5043, 106.5988],\n",
      "        [ 23.3516,  10.0741, -34.2052],\n",
      "        [ -6.7063,  15.5720,  -2.0589],\n",
      "        [  7.5514, -18.2026,  -6.1878],\n",
      "        [ -2.9997, -18.9138,   4.3195],\n",
      "        [-32.5186,  26.9276, -32.8140],\n",
      "        [ 19.7319,  22.4136,  -4.4714],\n",
      "        [ 19.4675,   2.5799,  32.6996]])\n",
      "Shape:\n",
      " torch.Size([9, 3])\n"
     ]
    }
   ],
   "source": [
    "print('Forces:\\n', properties[MD17.forces])\n",
    "print('Shape:\\n', properties[MD17.forces].shape)\n"
   ]
  },
  {
   "cell_type": "markdown",
   "metadata": {},
   "source": [
    "## Building the model\n",
    "\n",
    "After preparing the data, we can now build and train the force model.\n",
    "This is done in the same two steps as described in [QM9 tutorial](tutorial_02_qm9.ipynb):\n",
    "\n",
    "1. Building the representation\n",
    "2. Defining an output module\n",
    "\n",
    "For the representation we can use the same `SchNet` layer as in the previous tutorial:"
   ]
  },
  {
   "cell_type": "code",
   "execution_count": 5,
   "metadata": {},
   "outputs": [],
   "source": [
    "n_features = 128\n",
    "\n",
    "cutoff = 5.\n",
    "n_atom_basis = 30\n",
    "\n",
    "radial_basis = spk.nn.GaussianRBF(n_rbf=20, cutoff=cutoff)\n",
    "schnet = spk.representation.SchNet(\n",
    "    n_atom_basis=n_atom_basis, n_interactions=3,\n",
    "    radial_basis=radial_basis,\n",
    "    cutoff_fn=spk.nn.CosineCutoff(cutoff)\n",
    ")"
   ]
  },
  {
   "cell_type": "markdown",
   "metadata": {},
   "source": [
    "Since we aim to model forces, we will use the `Forces` module that will calculate the forces as derivatives of the\n",
    "energies predicted by the `Atomwise` module.\n",
    "We also define `ModelOutputs` for energies and forces that define the losses, loss weights and metrics to be logged."
   ]
  },
  {
   "cell_type": "code",
   "execution_count": 6,
   "metadata": {},
   "outputs": [],
   "source": [
    "pred_energy = spk.atomistic.Atomwise(n_in=n_atom_basis, output_key=MD17.energy)\n",
    "pred_forces = spk.atomistic.Forces(energy_key=MD17.energy, force_key=MD17.forces)"
   ]
  },
  {
   "cell_type": "markdown",
   "source": [
    "To train the model on energies and forces, we need to update the loss function to include the latter.\n",
    "This combined loss function is:\n",
    "\\begin{equation}\n",
    "\\mathcal{L}(E_\\mathrm{ref},\\mathbf{F}_\\mathrm{ref},E_\\mathrm{pred}, \\mathbf{F}_\\mathrm{pred}) = \\frac{1}{n_\\text{train}} \\sum_{n=1}^{n_\\text{train}} \\left[  \\rho_\\text{energy} \\left( E_\\mathrm{ref} - E_\\mathrm{pred} \\right)^2  +  \\frac{(\\rho_\\text{forces})}{3N_\\mathrm{atoms}} \\sum^{N_\\mathrm{atoms}}_\\alpha \\left\\| \\mathbf{F}_\\mathrm{ref}^{(\\alpha)} - \\mathbf{F}_\\mathrm{pred}^{(\\alpha)} \\right\\|^2 \\right].\n",
    "\\end{equation}\n",
    "\n",
    "We have introduced the loss weights $\\rho$ in order to control the tradeoff between energy and force loss.\n",
    "By varying this parameter, the accuracy on energies and forces can be tuned.\n",
    "\n",
    "We define the model outputs"
   ],
   "metadata": {
    "collapsed": false
   }
  },
  {
   "cell_type": "code",
   "execution_count": 7,
   "outputs": [],
   "source": [
    "output_energy = spk.atomistic.ModelOutput(\n",
    "    name=MD17.energy,\n",
    "    loss_fn=torch.nn.MSELoss(),\n",
    "    loss_weight=0.05,\n",
    "    metrics={\n",
    "        \"MAE\": torchmetrics.MeanAbsoluteError()\n",
    "    }\n",
    ")\n",
    "\n",
    "output_forces = spk.atomistic.ModelOutput(\n",
    "    name=MD17.forces,\n",
    "    loss_fn=torch.nn.MSELoss(),\n",
    "    loss_weight=0.95,\n",
    "    metrics={\n",
    "        \"MAE\": torchmetrics.MeanAbsoluteError()\n",
    "    }\n",
    ")"
   ],
   "metadata": {
    "collapsed": false,
    "pycharm": {
     "name": "#%%\n"
    }
   }
  },
  {
   "cell_type": "markdown",
   "source": [
    "All components are then assembled to the final model. It is important, that the energy output module is first\n",
    "in the list, since the `Forces` module needs to access the energy predictions. The output modules are always\n",
    "called in the order they are passed."
   ],
   "metadata": {
    "collapsed": false
   }
  },
  {
   "cell_type": "code",
   "execution_count": 8,
   "outputs": [],
   "source": [
    "model = spk.atomistic.AtomisticModel(\n",
    "    representation=schnet,\n",
    "    output_modules=[pred_energy, pred_forces],\n",
    "    outputs=[output_energy, output_forces],\n",
    "    optimizer_cls=torch.optim.AdamW,\n",
    "    optimizer_args={\"lr\":5e-4},\n",
    "    postprocess=[trn.CastTo64(), trn.AddOffsets(MD17.energy, add_mean=True, add_atomrefs=False)]\n",
    ")"
   ],
   "metadata": {
    "collapsed": false,
    "pycharm": {
     "name": "#%%\n"
    }
   }
  },
  {
   "cell_type": "markdown",
   "metadata": {},
   "source": [
    "## Training the model\n",
    "\n",
    "Now, we can train the model straightforward as we did in the last tutorial"
   ]
  },
  {
   "cell_type": "code",
   "execution_count": 9,
   "metadata": {},
   "outputs": [
    {
     "name": "stderr",
     "output_type": "stream",
     "text": [
      "GPU available: True, used: False\n",
      "TPU available: False, using: 0 TPU cores\n",
      "IPU available: False, using: 0 IPUs\n",
      "/home/kschuett/anaconda3/envs/spkdev/lib/python3.8/site-packages/pytorch_lightning/trainer/trainer.py:1303: UserWarning: GPU available but not used. Set the gpus flag in your trainer `Trainer(gpus=1)` or script `--gpus=1`.\n",
      "  rank_zero_warn(\n",
      "/home/kschuett/anaconda3/envs/spkdev/lib/python3.8/site-packages/pytorch_lightning/core/datamodule.py:423: LightningDeprecationWarning: DataModule.setup has already been called, so it will not be called again. In v1.6 this behavior will change to always call DataModule.setup.\n",
      "  rank_zero_deprecation(\n",
      "\n",
      "  | Name           | Type       | Params\n",
      "----------------------------------------------\n",
      "0 | representation | SchNet     | 16.0 K\n",
      "1 | outputs        | ModuleList | 0     \n",
      "2 | input_modules  | ModuleList | 0     \n",
      "3 | output_modules | ModuleList | 481   \n",
      "4 | postprocessors | ModuleList | 0     \n",
      "----------------------------------------------\n",
      "16.4 K    Trainable params\n",
      "0         Non-trainable params\n",
      "16.4 K    Total params\n",
      "0.066     Total estimated model params size (MB)\n"
     ]
    },
    {
     "data": {
      "text/plain": "Validation sanity check: 0it [00:00, ?it/s]",
      "application/vnd.jupyter.widget-view+json": {
       "version_major": 2,
       "version_minor": 0,
       "model_id": "6c2ca482980847aeb34793a8a8b5d17f"
      }
     },
     "metadata": {},
     "output_type": "display_data"
    },
    {
     "name": "stderr",
     "output_type": "stream",
     "text": [
      "/home/kschuett/anaconda3/envs/spkdev/lib/python3.8/site-packages/pytorch_lightning/trainer/data_loading.py:105: UserWarning: The dataloader, val dataloader 0, does not have many workers which may be a bottleneck. Consider increasing the value of the `num_workers` argument` (try 8 which is the number of cpus on this machine) in the `DataLoader` init to improve performance.\n",
      "  rank_zero_warn(\n",
      "/home/kschuett/anaconda3/envs/spkdev/lib/python3.8/site-packages/pytorch_lightning/trainer/data_loading.py:105: UserWarning: The dataloader, train dataloader, does not have many workers which may be a bottleneck. Consider increasing the value of the `num_workers` argument` (try 8 which is the number of cpus on this machine) in the `DataLoader` init to improve performance.\n",
      "  rank_zero_warn(\n",
      "/home/kschuett/anaconda3/envs/spkdev/lib/python3.8/site-packages/pytorch_lightning/trainer/data_loading.py:326: UserWarning: The number of training samples (10) is smaller than the logging interval Trainer(log_every_n_steps=50). Set a lower value for log_every_n_steps if you want to see logs for the training epoch.\n",
      "  rank_zero_warn(\n"
     ]
    },
    {
     "data": {
      "text/plain": "Training: -1it [00:00, ?it/s]",
      "application/vnd.jupyter.widget-view+json": {
       "version_major": 2,
       "version_minor": 0,
       "model_id": "b34c1d6d8b4b43e180ac91c5518ce4ce"
      }
     },
     "metadata": {},
     "output_type": "display_data"
    },
    {
     "data": {
      "text/plain": "Validating: 0it [00:00, ?it/s]",
      "application/vnd.jupyter.widget-view+json": {
       "version_major": 2,
       "version_minor": 0,
       "model_id": "60e9f85565894ea7bef8506353957649"
      }
     },
     "metadata": {},
     "output_type": "display_data"
    },
    {
     "data": {
      "text/plain": "Validating: 0it [00:00, ?it/s]",
      "application/vnd.jupyter.widget-view+json": {
       "version_major": 2,
       "version_minor": 0,
       "model_id": "f7724f8d1974482b99c0ce7491dd198c"
      }
     },
     "metadata": {},
     "output_type": "display_data"
    },
    {
     "data": {
      "text/plain": "Validating: 0it [00:00, ?it/s]",
      "application/vnd.jupyter.widget-view+json": {
       "version_major": 2,
       "version_minor": 0,
       "model_id": "3cf9574c88cc4b33aaf862393f73c889"
      }
     },
     "metadata": {},
     "output_type": "display_data"
    }
   ],
   "source": [
    "logger = pl.loggers.TensorBoardLogger(save_dir=forcetut)\n",
    "callbacks = [\n",
    "    spk.train.ModelCheckpoint(\n",
    "        inference_path=os.path.join(forcetut, \"best_inference_model\"),\n",
    "        save_top_k=1,\n",
    "        monitor=\"val_loss\"\n",
    "    )\n",
    "]\n",
    "\n",
    "trainer = pl.Trainer(\n",
    "    callbacks=callbacks,\n",
    "    logger=logger,\n",
    "    default_root_dir=forcetut,\n",
    "    max_epochs=3, # for testing, we restrict the number of epochs\n",
    ")\n",
    "trainer.fit(model, datamodule=ethanol_data)"
   ]
  },
  {
   "cell_type": "markdown",
   "metadata": {},
   "source": [
    "As in the previous tutorial, training will produce several files in the model directory `forcetut`.\n",
    "A copy of the best model is stored in `best_inference_model`.\n",
    "You can have a look at the training log using Tensorboard:\n",
    "```\n",
    "tensorboard --logdir=forcetut/default\n",
    "```\n",
    "\n",
    "It should be noted, that the model trained here is used exclusively for demonstrative purposes.\n",
    "Accordingly, its size and the training time have been reduced.\n",
    "This puts strong constraints on the accuracy that can be obtained.\n",
    "For practical applications, one would e.g. increase the number of features, the interaction layers,\n",
    "the learning rate schedule and train until convergence (e.g., increasing the `max_epochs` and using a learning rate\n",
    "scheduler with early stopping)."
   ]
  },
  {
   "cell_type": "markdown",
   "metadata": {},
   "source": [
    "## Interface to ASE\n",
    "\n",
    "As was shown in the [QM9 tutorial](tutorial_02_qm9.ipynb), one can also use the `AtomsConverter` to directly\n",
    "operate on ASE atoms objects.\n",
    "\n",
    "Having access to molecular forces also makes it possible to perform a variety of different simulations.\n",
    "The `SpkCalculator` offers a simple way to perform all computations available in the ASE package.\n",
    "Below, we create an ASE calculator from the trained model and the previously generated `atoms` object\n",
    "(see [Preparing the data](#Preparing-the-data)).\n",
    "One important point is, that the MD17 dataset uses kcal/mol and kcal/mol/&#8491; as units for energies and forces.\n",
    "For the ASE interface, these need to be converted to the standard internal ASE units eV and eV/&#8491;.\n",
    "This can be done by either passing the conversion factor or a string denoting the unit to the keywords `energy_units` and `force_units`. "
   ]
  },
  {
   "cell_type": "code",
   "execution_count": 23,
   "metadata": {},
   "outputs": [],
   "source": [
    "best_model = torch.load(os.path.join(forcetut, 'best_inference_model'))\n",
    "converter = spk.interfaces.AtomsConverter(neighbor_list=trn.ASENeighborList(cutoff=5.), dtype=torch.float32)\n",
    "calculator = spk.interfaces.SpkCalculator(model=best_model, converter=converter, energy=MD17.energy,\n",
    "    forces=MD17.forces,\n",
    "    energy_units='kcal/mol',\n",
    "    forces_units='kcal/mol/A')"
   ]
  },
  {
   "cell_type": "markdown",
   "source": [
    "The calculator then the be set for an ASE atoms object. Then all ASE operations can be carried out\n",
    "while using it as an interface to SchNetPack."
   ],
   "metadata": {
    "collapsed": false,
    "pycharm": {
     "name": "#%% md\n"
    }
   }
  },
  {
   "cell_type": "code",
   "execution_count": 24,
   "outputs": [
    {
     "name": "stdout",
     "output_type": "stream",
     "text": [
      "Prediction:\n",
      "energy: -0.19704322751237244\n",
      "forces: [[ 8.7245922e-07  1.7629648e-06  6.5420005e-07]\n",
      " [-8.6583617e-07  1.1417425e-06 -5.8072220e-07]\n",
      " [ 4.7002676e-08  6.0385139e-07  1.1046465e-06]\n",
      " [-1.4309309e-06 -3.2397054e-06  8.4199087e-08]\n",
      " [-1.1446546e-06  1.8793406e-06 -8.9261255e-07]\n",
      " [-2.5736330e-07  7.9135998e-07 -1.7031572e-06]\n",
      " [ 5.3865847e-07 -3.3917049e-06  1.6135522e-06]\n",
      " [ 1.2972332e-06  1.3266040e-06  1.5048033e-06]\n",
      " [ 9.4343136e-07 -8.7445295e-07 -1.7849093e-06]]\n",
      "Truth:\n",
      "energy: tensor([6.0858])\n",
      "forces: tensor([[ 90.4475,  25.0147, -31.5468],\n",
      "        [-60.5194,  33.3531, -29.9104],\n",
      "        [ 23.3405,  16.5439,  38.4760],\n",
      "        [-18.8251, -49.9789,   1.9826],\n",
      "        [-23.6364,  20.5905,   1.6389],\n",
      "        [  4.5124,   4.9655, -26.1553],\n",
      "        [ 19.3486, -57.7242,  32.3682],\n",
      "        [ -0.5251,   8.9837,  27.1222],\n",
      "        [-34.1095,  -1.6611, -13.9780]])\n",
      "ModuleList(\n",
      "  (0): CastTo64()\n",
      "  (1): AddOffsets()\n",
      ")\n"
     ]
    }
   ],
   "source": [
    "from ase import Atoms\n",
    "props = ethanol_data.test_dataset[0]\n",
    "atoms = Atoms(numbers=props[prp.Z], positions=props[prp.position])\n",
    "atoms.set_calculator(calculator)\n",
    "\n",
    "print('Prediction:')\n",
    "print('energy:', atoms.get_total_energy())\n",
    "print('forces:', atoms.get_forces())\n",
    "\n",
    "print('Truth:')\n",
    "print('energy:', props[MD17.energy])\n",
    "print('forces:', props[MD17.forces])\n",
    "print(best_model.postprocessors)"
   ],
   "metadata": {
    "collapsed": false,
    "pycharm": {
     "name": "#%%\n"
    }
   }
  },
  {
   "cell_type": "markdown",
   "metadata": {},
   "source": [
    "Among the simulations which can be done by using ASE and a force model are geometry optimisation, normal mode analysis and simple molecular dynamics simulations.\n",
    "\n",
    "The `AseInterface` of SchNetPack offers a convenient way to perform basic versions of these computations.\n",
    "Only a file specifying the geometry of the molecule and a pretrained model are needed.\n",
    "\n",
    "We will first generate a XYZ file containing an ethanol configuration:"
   ]
  },
  {
   "cell_type": "code",
   "execution_count": null,
   "metadata": {},
   "outputs": [],
   "source": [
    "from ase import io\n",
    "\n",
    "# Generate a directory for the ASE computations\n",
    "ase_dir = os.path.join(forcetut, 'ase_calcs')\n",
    "\n",
    "if not os.path.exists(ase_dir):\n",
    "    os.mkdir(ase_dir)\n",
    "\n",
    "# Write a sample molecule\n",
    "molecule_path = os.path.join( ase_dir, 'ethanol.xyz')\n",
    "io.write(molecule_path, atoms, format='xyz')"
   ]
  },
  {
   "cell_type": "markdown",
   "metadata": {},
   "source": [
    "The `AseInterface` is initialized by passing the path to the molecule, the model and a computation directory.\n",
    "In addion, the computation device for the force model and how energies and forces are called in the output, as well as their units, need to be provided."
   ]
  },
  {
   "cell_type": "code",
   "execution_count": null,
   "metadata": {},
   "outputs": [],
   "source": [
    "ethanol_ase = spk.interfaces.AseInterface(\n",
    "    molecule_path,\n",
    "    best_model,\n",
    "    ase_dir,\n",
    "    device,\n",
    "    energy=MD17.energy,\n",
    "    forces=MD17.forces,\n",
    "    energy_units='kcal/mol',\n",
    "    forces_units='kcal/mol/A'\n",
    ")"
   ]
  },
  {
   "cell_type": "markdown",
   "metadata": {},
   "source": [
    "### Geometry optimization\n",
    "\n",
    "For some applications it is neccessary to relax a molecule to an energy minimum.\n",
    "In order to perform this optimization of the molecular geometry, we can simply call"
   ]
  },
  {
   "cell_type": "code",
   "execution_count": null,
   "metadata": {},
   "outputs": [],
   "source": [
    "ethanol_ase.optimize(fmax=1e-4)"
   ]
  },
  {
   "cell_type": "markdown",
   "metadata": {},
   "source": [
    "Since we trained only a reduced model, the accuracy of energies and forces is not optimal and several steps are needed to optimize the geometry.\n",
    "\n",
    "### Normal mode analysis\n",
    "\n",
    "Once the geometry was optimized, normal mode frequencies can be obtained from the Hessian (matrix of second derivatives) of the molecule.\n",
    "The Hessian is a measure of the curvature of the potential energy surface and normal mode frequencies are useful for determining, whether an optimization has reached a minimum.\n",
    "Using the `AseInterface`, normal mode frequencies can be obtained via:"
   ]
  },
  {
   "cell_type": "code",
   "execution_count": null,
   "metadata": {},
   "outputs": [],
   "source": [
    "ethanol_ase.compute_normal_modes()"
   ]
  },
  {
   "cell_type": "markdown",
   "metadata": {},
   "source": [
    "Imaginary frequencies indicate, that the geometry optimisation has not yet reached a minimum.\n",
    "The `AseInterface` also creates an `normal_modes.xyz` file which can be used to visualize the vibrations with jmol.\n",
    "\n",
    "### Molecular dynamics\n",
    "\n",
    "Finally, it is also possible to basic run molecular dynamics simulations using this interface.\n",
    "To do so, we first need to prepare the system, where we specify the simulation file.\n",
    "This routine automatically initializes the velocities of the atoms to a random number corresponding to a certain average kinetic energy."
   ]
  },
  {
   "cell_type": "code",
   "execution_count": null,
   "metadata": {},
   "outputs": [],
   "source": [
    "ethanol_ase.init_md(\n",
    "    'simulation'\n",
    ")"
   ]
  },
  {
   "cell_type": "markdown",
   "metadata": {},
   "source": [
    "The actual simulation is performed by calling the function `run_md` with a certain number of steps:"
   ]
  },
  {
   "cell_type": "code",
   "execution_count": null,
   "metadata": {},
   "outputs": [],
   "source": [
    "ethanol_ase.run_md(1000)"
   ]
  },
  {
   "cell_type": "markdown",
   "metadata": {},
   "source": [
    "During simulation, energies and geometries are logged to `simulation.log` and `simulation.traj`, respectively.\n",
    "\n",
    "We can for example visualize the evolution of the systems total and potential energies as"
   ]
  },
  {
   "cell_type": "code",
   "execution_count": null,
   "metadata": {},
   "outputs": [],
   "source": [
    "# Load logged results\n",
    "results = np.loadtxt(os.path.join(ase_dir, 'simulation.log'), skiprows=1)\n",
    "\n",
    "# Determine time axis\n",
    "time = results[:,0]\n",
    "\n",
    "# Load energies\n",
    "energy_tot = results[:,1]\n",
    "energy_pot = results[:,2]\n",
    "energy_kin = results[:,3]\n",
    "\n",
    "# Construct figure\n",
    "plt.figure(figsize=(14,6))\n",
    "\n",
    "# Plot energies\n",
    "plt.subplot(2,1,1)\n",
    "plt.plot(time, energy_tot, label='Total energy')\n",
    "plt.plot(time, energy_pot, label='Potential energy')\n",
    "plt.ylabel('E [eV]')\n",
    "plt.legend()\n",
    "\n",
    "plt.subplot(2,1,2)\n",
    "plt.plot(time, energy_kin, label='Kinetic energy')\n",
    "plt.ylabel('E [eV]')\n",
    "plt.xlabel('Time [ps]')\n",
    "plt.legend()\n",
    "\n",
    "temperature = results[:,4]\n",
    "print('Average temperature: {:10.2f} K'.format(np.mean(temperature)))\n",
    "\n",
    "plt.show()"
   ]
  },
  {
   "cell_type": "markdown",
   "metadata": {},
   "source": [
    "As can be seen, the potential and kinetic energies fluctuate, while the total energy (sum of potential and kinetic energy) remains approximately constant.\n",
    "This is a good demonstration for the energy conservation obtained by modeling forces as energy derivatives.\n",
    "Unfortunately, this also means that energy conservation is not a sufficient measure for the quality of the potential.\n",
    "\n",
    "However, frequently one is interested in simulations where the system is coupled to an external heat bath.\n",
    "This is the same as saying that we wish to keep the average kinetic energy of the system and hence temperature close a certain value.\n",
    "Currently the average temperature only depends on the random velocities drawn during the initialization of the dynamics.\n",
    "Keeping a constant temperature average be achived by using a so-called thermostat.\n",
    "In the `AseInterface`, simulations with a thermostat (to be precise a Langevin thermostat) can be carried out by providing the `temp_bath` keyword.\n",
    "A simulation with e.g. the target temperature of 300K is performed via:"
   ]
  },
  {
   "cell_type": "code",
   "execution_count": null,
   "metadata": {},
   "outputs": [],
   "source": [
    "ethanol_ase.init_md(\n",
    "    'simulation_300K',\n",
    "    temp_bath=300,\n",
    "    reset=True\n",
    ")\n",
    "ethanol_ase.run_md(20000)"
   ]
  },
  {
   "cell_type": "markdown",
   "metadata": {},
   "source": [
    "We can now once again plot total and potential energies.\n",
    "Instead of the kinetic energy, we now plot the temperature (both quantities are directly related)."
   ]
  },
  {
   "cell_type": "code",
   "execution_count": null,
   "metadata": {},
   "outputs": [],
   "source": [
    "# Load logged results\n",
    "results = np.loadtxt(os.path.join(ase_dir, 'simulation_300K.log'), skiprows=1)\n",
    "\n",
    "# Determine time axis\n",
    "time = results[:,0]\n",
    "#0.02585\n",
    "# Load energies\n",
    "energy_tot = results[:,1]\n",
    "energy_pot = results[:,2]\n",
    "\n",
    "# Construct figure\n",
    "plt.figure(figsize=(14,6))\n",
    "\n",
    "# Plot energies\n",
    "plt.subplot(2,1,1)\n",
    "plt.plot(time, energy_tot, label='Total energy')\n",
    "plt.plot(time, energy_pot, label='Potential energy')\n",
    "plt.ylabel('Energies [eV]')\n",
    "plt.legend()\n",
    "\n",
    "# Plot Temperature\n",
    "temperature = results[:,4]\n",
    "\n",
    "# Compute average temperature\n",
    "print('Average temperature: {:10.2f} K'.format(np.mean(temperature)))\n",
    "\n",
    "plt.subplot(2,1,2)\n",
    "plt.plot(time, temperature, label='Simulation')\n",
    "plt.ylabel('Temperature [K]')\n",
    "plt.xlabel('Time [ps]')\n",
    "plt.plot(time, np.ones_like(temperature)*300, label='Target')\n",
    "plt.legend()\n",
    "plt.show()"
   ]
  },
  {
   "cell_type": "markdown",
   "metadata": {},
   "source": [
    "Since our molecule is now subjected to external influences via the thermostat the total energy is no longer conserved.\n",
    "However, the simulation temperature now fluctuates near to the requested 300K.\n",
    "This can also be seen by computing the temperature average over time, which is now close to the desired value in contrast to the previous simulation."
   ]
  },
  {
   "cell_type": "markdown",
   "metadata": {},
   "source": [
    "## Summary\n",
    "\n",
    "In this tutorial, we have trained a SchNet model on energies and forces using the MD17 ethanol dataset as an example. \n",
    "We have then evaluated the performance of the model and performed geometry optimisation, normal mode analysis and basic molecular dynamic simulations using the SchNetPack ASE interface.\n",
    "\n",
    "While these simulations can already be useful for practical applications, SchNetPack also comes with its own molecular dynamics package.\n",
    "This package makes it possible to run efficient simulations on GPU and also offers access to advanced techniques, such as ring polymer dynamics.\n",
    "In the next tutorial, we will cover how to perform molecular dynamics simulations directly with SchNetPack."
   ]
  }
 ],
 "metadata": {
  "kernelspec": {
   "name": "conda-env-spkdev-py",
   "language": "python",
   "display_name": "Python [conda env:spkdev] *"
  },
  "language_info": {
   "codemirror_mode": {
    "name": "ipython",
    "version": 3
   },
   "file_extension": ".py",
   "mimetype": "text/x-python",
   "name": "python",
   "nbconvert_exporter": "python",
   "pygments_lexer": "ipython3",
   "version": "3.6.8"
  },
  "nbsphinx": {
   "execute": "never"
  }
 },
 "nbformat": 4,
 "nbformat_minor": 2
}