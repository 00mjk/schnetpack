{
 "cells": [
  {
   "cell_type": "code",
   "execution_count": 3,
   "outputs": [],
   "source": [
    "import torch\n",
    "\n"
   ],
   "metadata": {
    "collapsed": false,
    "pycharm": {
     "name": "#%%\n",
     "is_executing": false
    }
   }
  },
  {
   "cell_type": "code",
   "execution_count": 4,
   "outputs": [],
   "source": [
    "\n",
    "N_a = 6\n",
    "N_b = 4\n",
    "N_f = 10\n"
   ],
   "metadata": {
    "collapsed": false,
    "pycharm": {
     "name": "#%%\n",
     "is_executing": false
    }
   }
  },
  {
   "cell_type": "code",
   "execution_count": 5,
   "outputs": [],
   "source": [
    "f_ij = torch.rand(N_b, N_a, N_a-1, N_f)\n",
    "nbh = torch.tensor([[[j for j in range(N_a) if j!=i] for i in range(N_a)] for _ in \n",
    "                    range(N_b)])\n",
    "y = torch.rand(N_b, N_a, N_f)\n"
   ],
   "metadata": {
    "collapsed": false,
    "pycharm": {
     "name": "#%%\n",
     "is_executing": false
    }
   }
  },
  {
   "cell_type": "code",
   "execution_count": 6,
   "outputs": [
    {
     "data": {
      "text/plain": "torch.Size([4, 6, 5, 10])"
     },
     "metadata": {},
     "output_type": "execute_result",
     "execution_count": 6
    }
   ],
   "source": [
    "f_ij.shape"
   ],
   "metadata": {
    "collapsed": false,
    "pycharm": {
     "name": "#%%\n",
     "is_executing": false
    }
   }
  },
  {
   "cell_type": "code",
   "execution_count": 7,
   "outputs": [
    {
     "data": {
      "text/plain": "torch.Size([4, 6, 5])"
     },
     "metadata": {},
     "output_type": "execute_result",
     "execution_count": 7
    }
   ],
   "source": [
    "nbh_shape = nbh.shape\n",
    "nbh_shape\n"
   ],
   "metadata": {
    "collapsed": false,
    "pycharm": {
     "name": "#%%\n",
     "is_executing": false
    }
   }
  },
  {
   "cell_type": "code",
   "execution_count": 8,
   "outputs": [
    {
     "data": {
      "text/plain": "tensor([[[1],\n         [2],\n         [3],\n         [4],\n         [5],\n         [0],\n         [2],\n         [3],\n         [4],\n         [5],\n         [0],\n         [1],\n         [3],\n         [4],\n         [5],\n         [0],\n         [1],\n         [2],\n         [4],\n         [5],\n         [0],\n         [1],\n         [2],\n         [3],\n         [5],\n         [0],\n         [1],\n         [2],\n         [3],\n         [4]],\n\n        [[1],\n         [2],\n         [3],\n         [4],\n         [5],\n         [0],\n         [2],\n         [3],\n         [4],\n         [5],\n         [0],\n         [1],\n         [3],\n         [4],\n         [5],\n         [0],\n         [1],\n         [2],\n         [4],\n         [5],\n         [0],\n         [1],\n         [2],\n         [3],\n         [5],\n         [0],\n         [1],\n         [2],\n         [3],\n         [4]],\n\n        [[1],\n         [2],\n         [3],\n         [4],\n         [5],\n         [0],\n         [2],\n         [3],\n         [4],\n         [5],\n         [0],\n         [1],\n         [3],\n         [4],\n         [5],\n         [0],\n         [1],\n         [2],\n         [4],\n         [5],\n         [0],\n         [1],\n         [2],\n         [3],\n         [5],\n         [0],\n         [1],\n         [2],\n         [3],\n         [4]],\n\n        [[1],\n         [2],\n         [3],\n         [4],\n         [5],\n         [0],\n         [2],\n         [3],\n         [4],\n         [5],\n         [0],\n         [1],\n         [3],\n         [4],\n         [5],\n         [0],\n         [1],\n         [2],\n         [4],\n         [5],\n         [0],\n         [1],\n         [2],\n         [3],\n         [5],\n         [0],\n         [1],\n         [2],\n         [3],\n         [4]]])"
     },
     "metadata": {},
     "output_type": "execute_result",
     "execution_count": 8
    }
   ],
   "source": [
    "nbh = nbh.view(nbh_shape[0], nbh_shape[1]*nbh_shape[2], 1)\n",
    "nbh\n"
   ],
   "metadata": {
    "collapsed": false,
    "pycharm": {
     "name": "#%%\n",
     "is_executing": false
    }
   }
  },
  {
   "cell_type": "code",
   "execution_count": 9,
   "outputs": [
    {
     "data": {
      "text/plain": "torch.Size([4, 30, 10])"
     },
     "metadata": {},
     "output_type": "execute_result",
     "execution_count": 9
    }
   ],
   "source": [
    "nbh = nbh.expand(-1, -1, N_f)\n",
    "nbh.shape\n"
   ],
   "metadata": {
    "collapsed": false,
    "pycharm": {
     "name": "#%%\n",
     "is_executing": false
    }
   }
  },
  {
   "cell_type": "code",
   "execution_count": 10,
   "outputs": [
    {
     "data": {
      "text/plain": "torch.Size([4, 6, 10])"
     },
     "metadata": {},
     "output_type": "execute_result",
     "execution_count": 10
    }
   ],
   "source": [
    "y.shape"
   ],
   "metadata": {
    "collapsed": false,
    "pycharm": {
     "name": "#%%\n",
     "is_executing": false
    }
   }
  },
  {
   "cell_type": "code",
   "execution_count": 11,
   "outputs": [
    {
     "data": {
      "text/plain": "tensor([[[1, 1, 1,  ..., 1, 1, 1],\n         [2, 2, 2,  ..., 2, 2, 2],\n         [3, 3, 3,  ..., 3, 3, 3],\n         ...,\n         [2, 2, 2,  ..., 2, 2, 2],\n         [3, 3, 3,  ..., 3, 3, 3],\n         [4, 4, 4,  ..., 4, 4, 4]],\n\n        [[1, 1, 1,  ..., 1, 1, 1],\n         [2, 2, 2,  ..., 2, 2, 2],\n         [3, 3, 3,  ..., 3, 3, 3],\n         ...,\n         [2, 2, 2,  ..., 2, 2, 2],\n         [3, 3, 3,  ..., 3, 3, 3],\n         [4, 4, 4,  ..., 4, 4, 4]],\n\n        [[1, 1, 1,  ..., 1, 1, 1],\n         [2, 2, 2,  ..., 2, 2, 2],\n         [3, 3, 3,  ..., 3, 3, 3],\n         ...,\n         [2, 2, 2,  ..., 2, 2, 2],\n         [3, 3, 3,  ..., 3, 3, 3],\n         [4, 4, 4,  ..., 4, 4, 4]],\n\n        [[1, 1, 1,  ..., 1, 1, 1],\n         [2, 2, 2,  ..., 2, 2, 2],\n         [3, 3, 3,  ..., 3, 3, 3],\n         ...,\n         [2, 2, 2,  ..., 2, 2, 2],\n         [3, 3, 3,  ..., 3, 3, 3],\n         [4, 4, 4,  ..., 4, 4, 4]]])"
     },
     "metadata": {},
     "output_type": "execute_result",
     "execution_count": 11
    }
   ],
   "source": [
    "nbh"
   ],
   "metadata": {
    "collapsed": false,
    "pycharm": {
     "name": "#%%\n",
     "is_executing": false
    }
   }
  },
  {
   "cell_type": "code",
   "execution_count": 12,
   "outputs": [
    {
     "data": {
      "text/plain": "tensor([[1, 1, 1, 1, 1, 1, 1, 1, 1, 1],\n        [2, 2, 2, 2, 2, 2, 2, 2, 2, 2],\n        [3, 3, 3, 3, 3, 3, 3, 3, 3, 3],\n        [4, 4, 4, 4, 4, 4, 4, 4, 4, 4],\n        [5, 5, 5, 5, 5, 5, 5, 5, 5, 5],\n        [0, 0, 0, 0, 0, 0, 0, 0, 0, 0],\n        [2, 2, 2, 2, 2, 2, 2, 2, 2, 2],\n        [3, 3, 3, 3, 3, 3, 3, 3, 3, 3],\n        [4, 4, 4, 4, 4, 4, 4, 4, 4, 4],\n        [5, 5, 5, 5, 5, 5, 5, 5, 5, 5],\n        [0, 0, 0, 0, 0, 0, 0, 0, 0, 0],\n        [1, 1, 1, 1, 1, 1, 1, 1, 1, 1],\n        [3, 3, 3, 3, 3, 3, 3, 3, 3, 3],\n        [4, 4, 4, 4, 4, 4, 4, 4, 4, 4],\n        [5, 5, 5, 5, 5, 5, 5, 5, 5, 5],\n        [0, 0, 0, 0, 0, 0, 0, 0, 0, 0],\n        [1, 1, 1, 1, 1, 1, 1, 1, 1, 1],\n        [2, 2, 2, 2, 2, 2, 2, 2, 2, 2],\n        [4, 4, 4, 4, 4, 4, 4, 4, 4, 4],\n        [5, 5, 5, 5, 5, 5, 5, 5, 5, 5],\n        [0, 0, 0, 0, 0, 0, 0, 0, 0, 0],\n        [1, 1, 1, 1, 1, 1, 1, 1, 1, 1],\n        [2, 2, 2, 2, 2, 2, 2, 2, 2, 2],\n        [3, 3, 3, 3, 3, 3, 3, 3, 3, 3],\n        [5, 5, 5, 5, 5, 5, 5, 5, 5, 5],\n        [0, 0, 0, 0, 0, 0, 0, 0, 0, 0],\n        [1, 1, 1, 1, 1, 1, 1, 1, 1, 1],\n        [2, 2, 2, 2, 2, 2, 2, 2, 2, 2],\n        [3, 3, 3, 3, 3, 3, 3, 3, 3, 3],\n        [4, 4, 4, 4, 4, 4, 4, 4, 4, 4]])"
     },
     "metadata": {},
     "output_type": "execute_result",
     "execution_count": 12
    }
   ],
   "source": [
    "\n",
    "\n",
    "nbh[1]"
   ],
   "metadata": {
    "collapsed": false,
    "pycharm": {
     "name": "#%%\n",
     "is_executing": false
    }
   }
  },
  {
   "cell_type": "code",
   "execution_count": 13,
   "outputs": [
    {
     "data": {
      "text/plain": "tensor([[[0.9555, 0.0559, 0.4913, 0.8824, 0.0411, 0.6402, 0.5289, 0.3792,\n          0.2099, 0.3326],\n         [0.3855, 0.2628, 0.1940, 0.3099, 0.5566, 0.8055, 0.7375, 0.6576,\n          0.2634, 0.3268],\n         [0.0560, 0.1184, 0.8799, 0.2502, 0.0641, 0.4755, 0.6467, 0.5081,\n          0.4761, 0.6961],\n         [0.5255, 0.3520, 0.0834, 0.1742, 0.0405, 0.1918, 0.0987, 0.5202,\n          0.0562, 0.9164],\n         [0.2344, 0.7884, 0.6993, 0.9018, 0.1653, 0.3691, 0.9946, 0.0796,\n          0.2848, 0.6918],\n         [0.6778, 0.3924, 0.8850, 0.4008, 0.6008, 0.3353, 0.3845, 0.6759,\n          0.2477, 0.3875]],\n\n        [[0.5709, 0.2653, 0.9955, 0.3349, 0.8744, 0.3034, 0.7233, 0.4320,\n          0.8352, 0.7567],\n         [0.1254, 0.2250, 0.5413, 0.2601, 0.9215, 0.2809, 0.5176, 0.2984,\n          0.4658, 0.1654],\n         [0.0112, 0.2606, 0.6813, 0.0999, 0.8944, 0.7745, 0.6734, 0.5757,\n          0.2450, 0.7291],\n         [0.6668, 0.6869, 0.1753, 0.6395, 0.6347, 0.5536, 0.9873, 0.1085,\n          0.0560, 0.9428],\n         [0.9001, 0.7974, 0.7546, 0.2957, 0.4579, 0.8151, 0.2487, 0.4539,\n          0.1846, 0.8529],\n         [0.2399, 0.3808, 0.0672, 0.9790, 0.0721, 0.0559, 0.6678, 0.4124,\n          0.4294, 0.5648]],\n\n        [[0.5444, 0.1750, 0.3622, 0.3539, 0.5261, 0.3899, 0.1904, 0.9272,\n          0.4033, 0.0190],\n         [0.9566, 0.6905, 0.2711, 0.7912, 0.0727, 0.0116, 0.8962, 0.9283,\n          0.4982, 0.4106],\n         [0.0648, 0.4538, 0.8101, 0.5007, 0.2765, 0.3795, 0.8945, 0.2294,\n          0.6661, 0.8426],\n         [0.0329, 0.1639, 0.2412, 0.1300, 0.4513, 0.1555, 0.5246, 0.4294,\n          0.3140, 0.0724],\n         [0.9051, 0.8836, 0.0935, 0.3756, 0.9727, 0.9533, 0.4537, 0.4078,\n          0.9101, 0.0224],\n         [0.7090, 0.6685, 0.2403, 0.0110, 0.3519, 0.0542, 0.4606, 0.7740,\n          0.9788, 0.9093]],\n\n        [[0.5123, 0.4437, 0.0856, 0.0272, 0.8834, 0.0365, 0.4221, 0.3809,\n          0.4638, 0.5238],\n         [0.3377, 0.1417, 0.9127, 0.8613, 0.1319, 0.2416, 0.9816, 0.5930,\n          0.2631, 0.8166],\n         [0.1928, 0.1054, 0.9604, 0.6697, 0.2179, 0.5310, 0.5515, 0.0850,\n          0.5434, 0.4340],\n         [0.0281, 0.5902, 0.8449, 0.7287, 0.7707, 0.7401, 0.2138, 0.7043,\n          0.3589, 0.5722],\n         [0.2627, 0.9148, 0.1407, 0.1905, 0.0406, 0.1786, 0.9020, 0.2319,\n          0.3622, 0.3119],\n         [0.1564, 0.4241, 0.1551, 0.1395, 0.0512, 0.8271, 0.7591, 0.2860,\n          0.5892, 0.6289]]])"
     },
     "metadata": {},
     "output_type": "execute_result",
     "execution_count": 13
    }
   ],
   "source": [
    "y"
   ],
   "metadata": {
    "collapsed": false,
    "pycharm": {
     "name": "#%%\n",
     "is_executing": false
    }
   }
  },
  {
   "cell_type": "code",
   "execution_count": 14,
   "outputs": [
    {
     "data": {
      "text/plain": "tensor([[[0.3855, 0.2628, 0.1940,  ..., 0.6576, 0.2634, 0.3268],\n         [0.0560, 0.1184, 0.8799,  ..., 0.5081, 0.4761, 0.6961],\n         [0.5255, 0.3520, 0.0834,  ..., 0.5202, 0.0562, 0.9164],\n         ...,\n         [0.0560, 0.1184, 0.8799,  ..., 0.5081, 0.4761, 0.6961],\n         [0.5255, 0.3520, 0.0834,  ..., 0.5202, 0.0562, 0.9164],\n         [0.2344, 0.7884, 0.6993,  ..., 0.0796, 0.2848, 0.6918]],\n\n        [[0.1254, 0.2250, 0.5413,  ..., 0.2984, 0.4658, 0.1654],\n         [0.0112, 0.2606, 0.6813,  ..., 0.5757, 0.2450, 0.7291],\n         [0.6668, 0.6869, 0.1753,  ..., 0.1085, 0.0560, 0.9428],\n         ...,\n         [0.0112, 0.2606, 0.6813,  ..., 0.5757, 0.2450, 0.7291],\n         [0.6668, 0.6869, 0.1753,  ..., 0.1085, 0.0560, 0.9428],\n         [0.9001, 0.7974, 0.7546,  ..., 0.4539, 0.1846, 0.8529]],\n\n        [[0.9566, 0.6905, 0.2711,  ..., 0.9283, 0.4982, 0.4106],\n         [0.0648, 0.4538, 0.8101,  ..., 0.2294, 0.6661, 0.8426],\n         [0.0329, 0.1639, 0.2412,  ..., 0.4294, 0.3140, 0.0724],\n         ...,\n         [0.0648, 0.4538, 0.8101,  ..., 0.2294, 0.6661, 0.8426],\n         [0.0329, 0.1639, 0.2412,  ..., 0.4294, 0.3140, 0.0724],\n         [0.9051, 0.8836, 0.0935,  ..., 0.4078, 0.9101, 0.0224]],\n\n        [[0.3377, 0.1417, 0.9127,  ..., 0.5930, 0.2631, 0.8166],\n         [0.1928, 0.1054, 0.9604,  ..., 0.0850, 0.5434, 0.4340],\n         [0.0281, 0.5902, 0.8449,  ..., 0.7043, 0.3589, 0.5722],\n         ...,\n         [0.1928, 0.1054, 0.9604,  ..., 0.0850, 0.5434, 0.4340],\n         [0.0281, 0.5902, 0.8449,  ..., 0.7043, 0.3589, 0.5722],\n         [0.2627, 0.9148, 0.1407,  ..., 0.2319, 0.3622, 0.3119]]])"
     },
     "metadata": {},
     "output_type": "execute_result",
     "execution_count": 14
    }
   ],
   "source": [
    "y = torch.gather(y, 1, nbh)\n",
    "y"
   ],
   "metadata": {
    "collapsed": false,
    "pycharm": {
     "name": "#%%\n",
     "is_executing": false
    }
   }
  },
  {
   "cell_type": "code",
   "execution_count": 15,
   "outputs": [
    {
     "data": {
      "text/plain": "torch.Size([4, 30, 10])"
     },
     "metadata": {},
     "output_type": "execute_result",
     "execution_count": 15
    }
   ],
   "source": [
    "\n",
    "y.shape"
   ],
   "metadata": {
    "collapsed": false,
    "pycharm": {
     "name": "#%%\n",
     "is_executing": false
    }
   }
  },
  {
   "cell_type": "code",
   "execution_count": 16,
   "outputs": [
    {
     "traceback": [
      "\u001b[0;31m---------------------------------------------------------------------------\u001b[0m",
      "\u001b[0;31mNameError\u001b[0m                                 Traceback (most recent call last)",
      "\u001b[0;32m<ipython-input-16-94ba602e834c>\u001b[0m in \u001b[0;36m<module>\u001b[0;34m\u001b[0m\n\u001b[0;32m----> 1\u001b[0;31m \u001b[0mW\u001b[0m\u001b[0;34m.\u001b[0m\u001b[0mshape\u001b[0m\u001b[0;34m\u001b[0m\u001b[0;34m\u001b[0m\u001b[0m\n\u001b[0m\u001b[1;32m      2\u001b[0m \u001b[0;34m\u001b[0m\u001b[0m\n",
      "\u001b[0;31mNameError\u001b[0m: name 'W' is not defined"
     ],
     "ename": "NameError",
     "evalue": "name 'W' is not defined",
     "output_type": "error"
    }
   ],
   "source": [
    "W.shape\n"
   ],
   "metadata": {
    "collapsed": false,
    "pycharm": {
     "name": "#%%\n",
     "is_executing": false
    }
   }
  },
  {
   "cell_type": "code",
   "execution_count": 18,
   "outputs": [],
   "source": [
    "y = y.view(nbh_shape[0], nbh_shape[1], nbh_shape[2], -1)\n"
   ],
   "metadata": {
    "collapsed": false,
    "pycharm": {
     "name": "#%%\n",
     "is_executing": false
    }
   }
  },
  {
   "cell_type": "code",
   "execution_count": 18,
   "outputs": [],
   "source": [],
   "metadata": {
    "collapsed": false,
    "pycharm": {
     "name": "#%%\n",
     "is_executing": false
    }
   }
  },
  {
   "cell_type": "code",
   "execution_count": 20,
   "outputs": [
    {
     "data": {
      "text/plain": "torch.Size([4, 6, 5, 10])"
     },
     "metadata": {},
     "output_type": "execute_result",
     "execution_count": 20
    }
   ],
   "source": [
    "y.shape"
   ],
   "metadata": {
    "collapsed": false,
    "pycharm": {
     "name": "#%%\n",
     "is_executing": false
    }
   }
  },
  {
   "cell_type": "code",
   "execution_count": null,
   "outputs": [],
   "source": [
    "\n"
   ],
   "metadata": {
    "collapsed": false,
    "pycharm": {
     "name": "#%%\n"
    }
   }
  }
 ],
 "metadata": {
  "language_info": {
   "codemirror_mode": {
    "name": "ipython",
    "version": 2
   },
   "file_extension": ".py",
   "mimetype": "text/x-python",
   "name": "python",
   "nbconvert_exporter": "python",
   "pygments_lexer": "ipython2",
   "version": "2.7.6"
  },
  "kernelspec": {
   "name": "python3",
   "language": "python",
   "display_name": "Python 3"
  },
  "pycharm": {
   "stem_cell": {
    "cell_type": "raw",
    "source": [],
    "metadata": {
     "collapsed": false
    }
   }
  }
 },
 "nbformat": 4,
 "nbformat_minor": 0
}